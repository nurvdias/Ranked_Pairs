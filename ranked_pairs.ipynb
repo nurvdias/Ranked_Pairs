{
 "cells": [
  {
   "cell_type": "markdown",
   "metadata": {},
   "source": [
    "# Import Libraries"
   ]
  },
  {
   "cell_type": "code",
   "execution_count": 14,
   "metadata": {},
   "outputs": [],
   "source": [
    "import pandas as pd\n",
    "import itertools\n",
    "import networkx as nx\n",
    "import matplotlib.pyplot as plt"
   ]
  },
  {
   "cell_type": "markdown",
   "metadata": {},
   "source": [
    "# Populate"
   ]
  },
  {
   "cell_type": "markdown",
   "metadata": {},
   "source": [
    "### PROMPT Candidates "
   ]
  },
  {
   "cell_type": "code",
   "execution_count": 119,
   "metadata": {},
   "outputs": [
    {
     "name": "stdout",
     "output_type": "stream",
     "text": [
      "Enter candidate count: 3\n",
      "Enter name of candidate 1: a\n",
      "Enter name of candidate 2: b\n",
      "Enter name of candidate 3: c\n"
     ]
    }
   ],
   "source": [
    "candidate_count = int(input(\"Enter candidate count: \"))\n",
    "candidates = list()\n",
    "for i in range (candidate_count):\n",
    "    candidates.append(input(f\"Enter name of candidate {i+1}: \"))"
   ]
  },
  {
   "cell_type": "markdown",
   "metadata": {},
   "source": [
    "### PROMPT Ranks"
   ]
  },
  {
   "cell_type": "code",
   "execution_count": 242,
   "metadata": {},
   "outputs": [
    {
     "name": "stdout",
     "output_type": "stream",
     "text": [
      "Enter voters count: 3\n",
      "Vote N1\n",
      "Enter rank for 1: a\n",
      "Enter rank for 2: c\n",
      "Enter rank for 3: b\n",
      "Vote N2\n",
      "Enter rank for 1: a\n",
      "Enter rank for 2: c\n",
      "Enter rank for 3: b\n",
      "Vote N3\n",
      "Enter rank for 1: b\n",
      "Enter rank for 2: c\n",
      "Enter rank for 3: a\n"
     ]
    }
   ],
   "source": [
    "voters_count = int(input(\"Enter voters count: \"))\n",
    "ranks = list()\n",
    "for i in range(voters_count):\n",
    "    print(f\"Vote N{i+1}\")\n",
    "    temp_rank = list()\n",
    "    for j in range(candidate_count):\n",
    "        temp_rank.append((input(f\"Enter rank for {j+1}: \")))\n",
    "    ranks.append(temp_rank)\n",
    "    \n",
    "pair_count = int(candidate_count*(candidate_count-1)/2)"
   ]
  },
  {
   "cell_type": "code",
   "execution_count": 244,
   "metadata": {},
   "outputs": [
    {
     "data": {
      "text/plain": [
       "[['a', 'c', 'b'], ['a', 'c', 'b'], ['b', 'c', 'a']]"
      ]
     },
     "execution_count": 244,
     "metadata": {},
     "output_type": "execute_result"
    }
   ],
   "source": [
    "ranks"
   ]
  },
  {
   "cell_type": "markdown",
   "metadata": {},
   "source": [
    "### Import from file"
   ]
  },
  {
   "cell_type": "code",
   "execution_count": 15,
   "metadata": {},
   "outputs": [],
   "source": [
    "filename = open('./app/test.txt', 'r')\n",
    "lines = filename.readlines()\n",
    "\n",
    "candidates_count = int(lines[0].split()[0])\n",
    "candidates = lines[1].split()\n",
    "voters_count = int(lines[2].split()[0])\n",
    "ranks = list()\n",
    "for i in range (3, 3 + voters_count):\n",
    "    ranks.append(lines[i].split())\n",
    "    \n",
    "filename.close()"
   ]
  },
  {
   "cell_type": "markdown",
   "metadata": {},
   "source": [
    "# Functions"
   ]
  },
  {
   "cell_type": "markdown",
   "metadata": {},
   "source": [
    "### Get data from file"
   ]
  },
  {
   "cell_type": "code",
   "execution_count": 17,
   "metadata": {},
   "outputs": [],
   "source": [
    "def get_data_from_file():\n",
    "    filename = open('test.txt', 'r')\n",
    "    lines = filename.readlines()\n",
    "\n",
    "    candidates_count = int(lines[0].split()[0])\n",
    "    candidates = lines[1].split()\n",
    "    voters_count = int(lines[2].split()[0])\n",
    "    ranks = list()\n",
    "    for i in range (3, 3 + voters_count):\n",
    "        ranks.append(lines[i].split())\n",
    "\n",
    "    filename.close()"
   ]
  },
  {
   "cell_type": "markdown",
   "metadata": {},
   "source": [
    "### Add pairs"
   ]
  },
  {
   "cell_type": "code",
   "execution_count": 18,
   "metadata": {},
   "outputs": [],
   "source": [
    "def add_pairs(ranks):\n",
    "    pairs = dict()\n",
    "    for rank in ranks:\n",
    "        for pair in list(itertools.permutations(rank, 2)):\n",
    "            if pair not in pairs:\n",
    "                pairs[pair] = 0\n",
    "            if rank.index(pair[0]) < rank.index(pair[1]):\n",
    "                pairs[pair] += 1\n",
    "    return candidates, pairs"
   ]
  },
  {
   "cell_type": "markdown",
   "metadata": {},
   "source": [
    "### Record Preferences"
   ]
  },
  {
   "cell_type": "code",
   "execution_count": 19,
   "metadata": {},
   "outputs": [],
   "source": [
    "def record_prefernces(candidates, pairs):\n",
    "    preferences = dict()\n",
    "    for match in list(itertools.combinations(candidates, 2)):\n",
    "        reverse = tuple(reversed(match))\n",
    "        if pairs[match] > pairs[reverse]:\n",
    "            preferences[match] = match[0]\n",
    "        else:\n",
    "            preferences[match] = match[1]\n",
    "    return preferences"
   ]
  },
  {
   "cell_type": "markdown",
   "metadata": {},
   "source": [
    "### Find Winner"
   ]
  },
  {
   "cell_type": "code",
   "execution_count": 20,
   "metadata": {},
   "outputs": [],
   "source": [
    "def find_winner(candidates, preferences):\n",
    "    for candidate in candidates:\n",
    "        candidate_score = 0\n",
    "        for preference in preferences:\n",
    "            if candidate in preference and preferences[preference] == candidate:\n",
    "                candidate_score += 1\n",
    "        if candidate_score == len(candidates) - 1:\n",
    "            return candidate"
   ]
  },
  {
   "cell_type": "markdown",
   "metadata": {},
   "source": [
    "### Build Graph"
   ]
  },
  {
   "cell_type": "code",
   "execution_count": null,
   "metadata": {},
   "outputs": [],
   "source": []
  },
  {
   "cell_type": "code",
   "execution_count": 21,
   "metadata": {},
   "outputs": [],
   "source": [
    "def build_graph(preferences):\n",
    "    graph = set()\n",
    "    for i in range(len(preferences)):\n",
    "        node = list(preferences.values())[i]\n",
    "        if list(preferences.keys())[i][0] != node:\n",
    "            graph.add(list(preferences.keys())[i][::-1])\n",
    "        else:\n",
    "            graph.add(list(preferences.keys())[i])\n",
    "    \n",
    "    G = nx.DiGraph()\n",
    "    G.add_edges_from(list(graph))\n",
    "\n",
    "    nx.draw(G, with_labels = True)\n",
    "    plt.show()"
   ]
  },
  {
   "cell_type": "markdown",
   "metadata": {},
   "source": [
    "# Main"
   ]
  },
  {
   "cell_type": "code",
   "execution_count": 22,
   "metadata": {},
   "outputs": [
    {
     "name": "stdout",
     "output_type": "stream",
     "text": [
      "Alice\n"
     ]
    }
   ],
   "source": [
    "candidates, pairs = add_pairs(ranks)\n",
    "preferences = record_prefernces(candidates, pairs)\n",
    "print(find_winner(candidates, preferences))"
   ]
  },
  {
   "cell_type": "code",
   "execution_count": 26,
   "metadata": {},
   "outputs": [
    {
     "data": {
      "text/plain": [
       "['Alice', 'Charlie', 'Bob']"
      ]
     },
     "execution_count": 26,
     "metadata": {},
     "output_type": "execute_result"
    }
   ],
   "source": [
    "candidates"
   ]
  },
  {
   "cell_type": "code",
   "execution_count": 23,
   "metadata": {},
   "outputs": [
    {
     "data": {
      "text/plain": [
       "{('Alice', 'Charlie'): 5,\n",
       " ('Alice', 'Bob'): 5,\n",
       " ('Charlie', 'Alice'): 4,\n",
       " ('Charlie', 'Bob'): 6,\n",
       " ('Bob', 'Alice'): 4,\n",
       " ('Bob', 'Charlie'): 3}"
      ]
     },
     "execution_count": 23,
     "metadata": {},
     "output_type": "execute_result"
    }
   ],
   "source": [
    "pairs"
   ]
  },
  {
   "cell_type": "code",
   "execution_count": 24,
   "metadata": {},
   "outputs": [
    {
     "data": {
      "text/plain": [
       "{('Alice', 'Charlie'): 'Alice',\n",
       " ('Alice', 'Bob'): 'Alice',\n",
       " ('Charlie', 'Bob'): 'Charlie'}"
      ]
     },
     "execution_count": 24,
     "metadata": {},
     "output_type": "execute_result"
    }
   ],
   "source": [
    "preferences"
   ]
  },
  {
   "cell_type": "code",
   "execution_count": 25,
   "metadata": {},
   "outputs": [
    {
     "data": {
      "image/png": "[encoded data removed]",
      "text/plain": [
       "<Figure size 432x288 with 1 Axes>"
      ]
     },
     "metadata": {},
     "output_type": "display_data"
    }
   ],
   "source": [
    "build_graph(preferences)"
   ]
  },
  {
   "cell_type": "code",
   "execution_count": null,
   "metadata": {},
   "outputs": [],
   "source": []
  }
 ],
 "metadata": {
  "kernelspec": {
   "display_name": "Python 3",
   "language": "python",
   "name": "python3"
  },
  "language_info": {
   "codemirror_mode": {
    "name": "ipython",
    "version": 3
   },
   "file_extension": ".py",
   "mimetype": "text/x-python",
   "name": "python",
   "nbconvert_exporter": "python",
   "pygments_lexer": "ipython3",
   "version": "3.8.5"
  }
 },
 "nbformat": 4,
 "nbformat_minor": 4
}
